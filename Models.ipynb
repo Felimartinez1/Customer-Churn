{
 "cells": [
  {
   "cell_type": "code",
   "execution_count": 1,
   "id": "e1867589",
   "metadata": {
    "_cell_guid": "b1076dfc-b9ad-4769-8c92-a6c4dae69d19",
    "_uuid": "8f2839f25d086af736a60e9eeb907d3b93b6e0e5",
    "execution": {
     "iopub.execute_input": "2023-10-26T19:25:21.779735Z",
     "iopub.status.busy": "2023-10-26T19:25:21.779381Z",
     "iopub.status.idle": "2023-10-26T19:25:22.589579Z",
     "shell.execute_reply": "2023-10-26T19:25:22.588632Z"
    },
    "papermill": {
     "duration": 0.821628,
     "end_time": "2023-10-26T19:25:22.592093",
     "exception": false,
     "start_time": "2023-10-26T19:25:21.770465",
     "status": "completed"
    },
    "tags": []
   },
   "outputs": [
    {
     "name": "stdout",
     "output_type": "stream",
     "text": [
      "/kaggle/input/predictive-analytics-for-customer-churn-dataset/data_descriptions.csv\n",
      "/kaggle/input/predictive-analytics-for-customer-churn-dataset/train.csv\n",
      "/kaggle/input/predictive-analytics-for-customer-churn-dataset/test.csv\n"
     ]
    }
   ],
   "source": [
    "# This Python 3 environment comes with many helpful analytics libraries installed\n",
    "# It is defined by the kaggle/python Docker image: https://github.com/kaggle/docker-python\n",
    "# For example, here's several helpful packages to load\n",
    "\n",
    "import numpy as np # linear algebra\n",
    "import pandas as pd # data processing, CSV file I/O (e.g. pd.read_csv)\n",
    "\n",
    "# Input data files are available in the read-only \"../input/\" directory\n",
    "# For example, running this (by clicking run or pressing Shift+Enter) will list all files under the input directory\n",
    "\n",
    "import os\n",
    "for dirname, _, filenames in os.walk('/kaggle/input'):\n",
    "    for filename in filenames:\n",
    "        print(os.path.join(dirname, filename))\n",
    "\n",
    "# You can write up to 20GB to the current directory (/kaggle/working/) that gets preserved as output when you create a version using \"Save & Run All\" \n",
    "# You can also write temporary files to /kaggle/temp/, but they won't be saved outside of the current session"
   ]
  },
  {
   "cell_type": "code",
   "execution_count": 2,
   "id": "3fb0a419",
   "metadata": {
    "execution": {
     "iopub.execute_input": "2023-10-26T19:25:22.609099Z",
     "iopub.status.busy": "2023-10-26T19:25:22.608724Z",
     "iopub.status.idle": "2023-10-26T19:25:36.471971Z",
     "shell.execute_reply": "2023-10-26T19:25:36.470635Z"
    },
    "papermill": {
     "duration": 13.874331,
     "end_time": "2023-10-26T19:25:36.474445",
     "exception": false,
     "start_time": "2023-10-26T19:25:22.600114",
     "status": "completed"
    },
    "tags": []
   },
   "outputs": [
    {
     "name": "stdout",
     "output_type": "stream",
     "text": [
      "Requirement already satisfied: xgboost in /opt/conda/lib/python3.10/site-packages (1.7.6)\r\n",
      "Requirement already satisfied: numpy in /opt/conda/lib/python3.10/site-packages (from xgboost) (1.23.5)\r\n",
      "Requirement already satisfied: scipy in /opt/conda/lib/python3.10/site-packages (from xgboost) (1.11.2)\r\n"
     ]
    }
   ],
   "source": [
    "!pip install xgboost"
   ]
  },
  {
   "cell_type": "code",
   "execution_count": 3,
   "id": "c1826e7c",
   "metadata": {
    "execution": {
     "iopub.execute_input": "2023-10-26T19:25:36.491215Z",
     "iopub.status.busy": "2023-10-26T19:25:36.490876Z",
     "iopub.status.idle": "2023-10-26T19:25:47.588428Z",
     "shell.execute_reply": "2023-10-26T19:25:47.587497Z"
    },
    "papermill": {
     "duration": 11.108694,
     "end_time": "2023-10-26T19:25:47.591022",
     "exception": false,
     "start_time": "2023-10-26T19:25:36.482328",
     "status": "completed"
    },
    "tags": []
   },
   "outputs": [
    {
     "name": "stderr",
     "output_type": "stream",
     "text": [
      "/opt/conda/lib/python3.10/site-packages/scipy/__init__.py:146: UserWarning: A NumPy version >=1.16.5 and <1.23.0 is required for this version of SciPy (detected version 1.23.5\n",
      "  warnings.warn(f\"A NumPy version >={np_minversion} and <{np_maxversion}\"\n"
     ]
    }
   ],
   "source": [
    "import pandas as pd\n",
    "import numpy as np\n",
    "\n",
    "import matplotlib.pyplot as plt\n",
    "import seaborn\n",
    "\n",
    "import os\n",
    "\n",
    "from xgboost import XGBClassifier\n",
    "from sklearn.ensemble import RandomForestClassifier\n",
    "import tensorflow as tf\n",
    "from sklearn.preprocessing import StandardScaler\n",
    "from sklearn.model_selection import train_test_split\n",
    "from sklearn.metrics import accuracy_score"
   ]
  },
  {
   "cell_type": "code",
   "execution_count": 4,
   "id": "35210844",
   "metadata": {
    "execution": {
     "iopub.execute_input": "2023-10-26T19:25:47.608460Z",
     "iopub.status.busy": "2023-10-26T19:25:47.607923Z",
     "iopub.status.idle": "2023-10-26T19:25:52.175275Z",
     "shell.execute_reply": "2023-10-26T19:25:52.174023Z"
    },
    "papermill": {
     "duration": 4.57832,
     "end_time": "2023-10-26T19:25:52.177576",
     "exception": false,
     "start_time": "2023-10-26T19:25:47.599256",
     "status": "completed"
    },
    "tags": []
   },
   "outputs": [
    {
     "name": "stdout",
     "output_type": "stream",
     "text": [
      "/device:GPU:0\n"
     ]
    }
   ],
   "source": [
    "if tf.test.is_gpu_available():\n",
    "    # Imprime información sobre la GPU\n",
    "    physical_devices = tf.config.experimental.list_physical_devices('GPU')\n",
    "    print(tf.test.gpu_device_name())\n",
    "else:\n",
    "    print(\"No se ha encontrado una GPU disponible.\")"
   ]
  },
  {
   "cell_type": "code",
   "execution_count": 5,
   "id": "e0c5b33c",
   "metadata": {
    "execution": {
     "iopub.execute_input": "2023-10-26T19:25:52.194901Z",
     "iopub.status.busy": "2023-10-26T19:25:52.194598Z",
     "iopub.status.idle": "2023-10-26T19:25:53.606334Z",
     "shell.execute_reply": "2023-10-26T19:25:53.605535Z"
    },
    "papermill": {
     "duration": 1.422951,
     "end_time": "2023-10-26T19:25:53.608782",
     "exception": false,
     "start_time": "2023-10-26T19:25:52.185831",
     "status": "completed"
    },
    "tags": []
   },
   "outputs": [],
   "source": [
    "df = pd.read_csv(\"/kaggle/input/predictive-analytics-for-customer-churn-dataset/train.csv\")"
   ]
  },
  {
   "cell_type": "code",
   "execution_count": 6,
   "id": "9127ab5d",
   "metadata": {
    "execution": {
     "iopub.execute_input": "2023-10-26T19:25:53.625707Z",
     "iopub.status.busy": "2023-10-26T19:25:53.625385Z",
     "iopub.status.idle": "2023-10-26T19:25:53.776516Z",
     "shell.execute_reply": "2023-10-26T19:25:53.775439Z"
    },
    "papermill": {
     "duration": 0.16219,
     "end_time": "2023-10-26T19:25:53.779008",
     "exception": false,
     "start_time": "2023-10-26T19:25:53.616818",
     "status": "completed"
    },
    "tags": []
   },
   "outputs": [
    {
     "data": {
      "text/html": [
       "<div>\n",
       "<style scoped>\n",
       "    .dataframe tbody tr th:only-of-type {\n",
       "        vertical-align: middle;\n",
       "    }\n",
       "\n",
       "    .dataframe tbody tr th {\n",
       "        vertical-align: top;\n",
       "    }\n",
       "\n",
       "    .dataframe thead th {\n",
       "        text-align: right;\n",
       "    }\n",
       "</style>\n",
       "<table border=\"1\" class=\"dataframe\">\n",
       "  <thead>\n",
       "    <tr style=\"text-align: right;\">\n",
       "      <th></th>\n",
       "      <th>AccountAge</th>\n",
       "      <th>MonthlyCharges</th>\n",
       "      <th>TotalCharges</th>\n",
       "      <th>SubscriptionType</th>\n",
       "      <th>PaymentMethod</th>\n",
       "      <th>PaperlessBilling</th>\n",
       "      <th>ContentType</th>\n",
       "      <th>MultiDeviceAccess</th>\n",
       "      <th>DeviceRegistered</th>\n",
       "      <th>ViewingHoursPerWeek</th>\n",
       "      <th>...</th>\n",
       "      <th>ContentDownloadsPerMonth</th>\n",
       "      <th>GenrePreference</th>\n",
       "      <th>UserRating</th>\n",
       "      <th>SupportTicketsPerMonth</th>\n",
       "      <th>Gender</th>\n",
       "      <th>WatchlistSize</th>\n",
       "      <th>ParentalControl</th>\n",
       "      <th>SubtitlesEnabled</th>\n",
       "      <th>CustomerID</th>\n",
       "      <th>Churn</th>\n",
       "    </tr>\n",
       "  </thead>\n",
       "  <tbody>\n",
       "    <tr>\n",
       "      <th>0</th>\n",
       "      <td>20</td>\n",
       "      <td>11.055215</td>\n",
       "      <td>221.104302</td>\n",
       "      <td>Premium</td>\n",
       "      <td>Mailed check</td>\n",
       "      <td>No</td>\n",
       "      <td>Both</td>\n",
       "      <td>No</td>\n",
       "      <td>Mobile</td>\n",
       "      <td>36.758104</td>\n",
       "      <td>...</td>\n",
       "      <td>10</td>\n",
       "      <td>Sci-Fi</td>\n",
       "      <td>2.176498</td>\n",
       "      <td>4</td>\n",
       "      <td>Male</td>\n",
       "      <td>3</td>\n",
       "      <td>No</td>\n",
       "      <td>No</td>\n",
       "      <td>CB6SXPNVZA</td>\n",
       "      <td>0</td>\n",
       "    </tr>\n",
       "    <tr>\n",
       "      <th>1</th>\n",
       "      <td>57</td>\n",
       "      <td>5.175208</td>\n",
       "      <td>294.986882</td>\n",
       "      <td>Basic</td>\n",
       "      <td>Credit card</td>\n",
       "      <td>Yes</td>\n",
       "      <td>Movies</td>\n",
       "      <td>No</td>\n",
       "      <td>Tablet</td>\n",
       "      <td>32.450568</td>\n",
       "      <td>...</td>\n",
       "      <td>18</td>\n",
       "      <td>Action</td>\n",
       "      <td>3.478632</td>\n",
       "      <td>8</td>\n",
       "      <td>Male</td>\n",
       "      <td>23</td>\n",
       "      <td>No</td>\n",
       "      <td>Yes</td>\n",
       "      <td>S7R2G87O09</td>\n",
       "      <td>0</td>\n",
       "    </tr>\n",
       "    <tr>\n",
       "      <th>2</th>\n",
       "      <td>73</td>\n",
       "      <td>12.106657</td>\n",
       "      <td>883.785952</td>\n",
       "      <td>Basic</td>\n",
       "      <td>Mailed check</td>\n",
       "      <td>Yes</td>\n",
       "      <td>Movies</td>\n",
       "      <td>No</td>\n",
       "      <td>Computer</td>\n",
       "      <td>7.395160</td>\n",
       "      <td>...</td>\n",
       "      <td>23</td>\n",
       "      <td>Fantasy</td>\n",
       "      <td>4.238824</td>\n",
       "      <td>6</td>\n",
       "      <td>Male</td>\n",
       "      <td>1</td>\n",
       "      <td>Yes</td>\n",
       "      <td>Yes</td>\n",
       "      <td>EASDC20BDT</td>\n",
       "      <td>0</td>\n",
       "    </tr>\n",
       "    <tr>\n",
       "      <th>3</th>\n",
       "      <td>32</td>\n",
       "      <td>7.263743</td>\n",
       "      <td>232.439774</td>\n",
       "      <td>Basic</td>\n",
       "      <td>Electronic check</td>\n",
       "      <td>No</td>\n",
       "      <td>TV Shows</td>\n",
       "      <td>No</td>\n",
       "      <td>Tablet</td>\n",
       "      <td>27.960389</td>\n",
       "      <td>...</td>\n",
       "      <td>30</td>\n",
       "      <td>Drama</td>\n",
       "      <td>4.276013</td>\n",
       "      <td>2</td>\n",
       "      <td>Male</td>\n",
       "      <td>24</td>\n",
       "      <td>Yes</td>\n",
       "      <td>Yes</td>\n",
       "      <td>NPF69NT69N</td>\n",
       "      <td>0</td>\n",
       "    </tr>\n",
       "    <tr>\n",
       "      <th>4</th>\n",
       "      <td>57</td>\n",
       "      <td>16.953078</td>\n",
       "      <td>966.325422</td>\n",
       "      <td>Premium</td>\n",
       "      <td>Electronic check</td>\n",
       "      <td>Yes</td>\n",
       "      <td>TV Shows</td>\n",
       "      <td>No</td>\n",
       "      <td>TV</td>\n",
       "      <td>20.083397</td>\n",
       "      <td>...</td>\n",
       "      <td>20</td>\n",
       "      <td>Comedy</td>\n",
       "      <td>3.616170</td>\n",
       "      <td>4</td>\n",
       "      <td>Female</td>\n",
       "      <td>0</td>\n",
       "      <td>No</td>\n",
       "      <td>No</td>\n",
       "      <td>4LGYPK7VOL</td>\n",
       "      <td>0</td>\n",
       "    </tr>\n",
       "    <tr>\n",
       "      <th>...</th>\n",
       "      <td>...</td>\n",
       "      <td>...</td>\n",
       "      <td>...</td>\n",
       "      <td>...</td>\n",
       "      <td>...</td>\n",
       "      <td>...</td>\n",
       "      <td>...</td>\n",
       "      <td>...</td>\n",
       "      <td>...</td>\n",
       "      <td>...</td>\n",
       "      <td>...</td>\n",
       "      <td>...</td>\n",
       "      <td>...</td>\n",
       "      <td>...</td>\n",
       "      <td>...</td>\n",
       "      <td>...</td>\n",
       "      <td>...</td>\n",
       "      <td>...</td>\n",
       "      <td>...</td>\n",
       "      <td>...</td>\n",
       "      <td>...</td>\n",
       "    </tr>\n",
       "    <tr>\n",
       "      <th>243782</th>\n",
       "      <td>77</td>\n",
       "      <td>9.639902</td>\n",
       "      <td>742.272460</td>\n",
       "      <td>Basic</td>\n",
       "      <td>Mailed check</td>\n",
       "      <td>No</td>\n",
       "      <td>Movies</td>\n",
       "      <td>No</td>\n",
       "      <td>Computer</td>\n",
       "      <td>13.502729</td>\n",
       "      <td>...</td>\n",
       "      <td>47</td>\n",
       "      <td>Sci-Fi</td>\n",
       "      <td>3.697451</td>\n",
       "      <td>1</td>\n",
       "      <td>Male</td>\n",
       "      <td>8</td>\n",
       "      <td>Yes</td>\n",
       "      <td>No</td>\n",
       "      <td>FBZ38J108Z</td>\n",
       "      <td>0</td>\n",
       "    </tr>\n",
       "    <tr>\n",
       "      <th>243783</th>\n",
       "      <td>117</td>\n",
       "      <td>13.049257</td>\n",
       "      <td>1526.763053</td>\n",
       "      <td>Premium</td>\n",
       "      <td>Credit card</td>\n",
       "      <td>No</td>\n",
       "      <td>TV Shows</td>\n",
       "      <td>Yes</td>\n",
       "      <td>TV</td>\n",
       "      <td>24.963291</td>\n",
       "      <td>...</td>\n",
       "      <td>35</td>\n",
       "      <td>Comedy</td>\n",
       "      <td>1.449742</td>\n",
       "      <td>4</td>\n",
       "      <td>Male</td>\n",
       "      <td>20</td>\n",
       "      <td>No</td>\n",
       "      <td>No</td>\n",
       "      <td>W4AO1Y6NAI</td>\n",
       "      <td>0</td>\n",
       "    </tr>\n",
       "    <tr>\n",
       "      <th>243784</th>\n",
       "      <td>113</td>\n",
       "      <td>14.514569</td>\n",
       "      <td>1640.146267</td>\n",
       "      <td>Premium</td>\n",
       "      <td>Credit card</td>\n",
       "      <td>Yes</td>\n",
       "      <td>TV Shows</td>\n",
       "      <td>No</td>\n",
       "      <td>TV</td>\n",
       "      <td>10.628728</td>\n",
       "      <td>...</td>\n",
       "      <td>44</td>\n",
       "      <td>Action</td>\n",
       "      <td>4.012217</td>\n",
       "      <td>6</td>\n",
       "      <td>Male</td>\n",
       "      <td>13</td>\n",
       "      <td>Yes</td>\n",
       "      <td>Yes</td>\n",
       "      <td>0H3SWWI7IU</td>\n",
       "      <td>0</td>\n",
       "    </tr>\n",
       "    <tr>\n",
       "      <th>243785</th>\n",
       "      <td>7</td>\n",
       "      <td>18.140555</td>\n",
       "      <td>126.983887</td>\n",
       "      <td>Premium</td>\n",
       "      <td>Bank transfer</td>\n",
       "      <td>Yes</td>\n",
       "      <td>TV Shows</td>\n",
       "      <td>No</td>\n",
       "      <td>TV</td>\n",
       "      <td>30.466782</td>\n",
       "      <td>...</td>\n",
       "      <td>36</td>\n",
       "      <td>Fantasy</td>\n",
       "      <td>2.135789</td>\n",
       "      <td>7</td>\n",
       "      <td>Female</td>\n",
       "      <td>5</td>\n",
       "      <td>No</td>\n",
       "      <td>Yes</td>\n",
       "      <td>63SJ44RT4A</td>\n",
       "      <td>0</td>\n",
       "    </tr>\n",
       "    <tr>\n",
       "      <th>243786</th>\n",
       "      <td>90</td>\n",
       "      <td>11.593774</td>\n",
       "      <td>1043.439704</td>\n",
       "      <td>Premium</td>\n",
       "      <td>Mailed check</td>\n",
       "      <td>No</td>\n",
       "      <td>Both</td>\n",
       "      <td>No</td>\n",
       "      <td>TV</td>\n",
       "      <td>24.972537</td>\n",
       "      <td>...</td>\n",
       "      <td>11</td>\n",
       "      <td>Action</td>\n",
       "      <td>1.428896</td>\n",
       "      <td>3</td>\n",
       "      <td>Female</td>\n",
       "      <td>1</td>\n",
       "      <td>Yes</td>\n",
       "      <td>No</td>\n",
       "      <td>A6IN701VRY</td>\n",
       "      <td>0</td>\n",
       "    </tr>\n",
       "  </tbody>\n",
       "</table>\n",
       "<p>243787 rows × 21 columns</p>\n",
       "</div>"
      ],
      "text/plain": [
       "        AccountAge  MonthlyCharges  TotalCharges SubscriptionType  \\\n",
       "0               20       11.055215    221.104302          Premium   \n",
       "1               57        5.175208    294.986882            Basic   \n",
       "2               73       12.106657    883.785952            Basic   \n",
       "3               32        7.263743    232.439774            Basic   \n",
       "4               57       16.953078    966.325422          Premium   \n",
       "...            ...             ...           ...              ...   \n",
       "243782          77        9.639902    742.272460            Basic   \n",
       "243783         117       13.049257   1526.763053          Premium   \n",
       "243784         113       14.514569   1640.146267          Premium   \n",
       "243785           7       18.140555    126.983887          Premium   \n",
       "243786          90       11.593774   1043.439704          Premium   \n",
       "\n",
       "           PaymentMethod PaperlessBilling ContentType MultiDeviceAccess  \\\n",
       "0           Mailed check               No        Both                No   \n",
       "1            Credit card              Yes      Movies                No   \n",
       "2           Mailed check              Yes      Movies                No   \n",
       "3       Electronic check               No    TV Shows                No   \n",
       "4       Electronic check              Yes    TV Shows                No   \n",
       "...                  ...              ...         ...               ...   \n",
       "243782      Mailed check               No      Movies                No   \n",
       "243783       Credit card               No    TV Shows               Yes   \n",
       "243784       Credit card              Yes    TV Shows                No   \n",
       "243785     Bank transfer              Yes    TV Shows                No   \n",
       "243786      Mailed check               No        Both                No   \n",
       "\n",
       "       DeviceRegistered  ViewingHoursPerWeek  ...  ContentDownloadsPerMonth  \\\n",
       "0                Mobile            36.758104  ...                        10   \n",
       "1                Tablet            32.450568  ...                        18   \n",
       "2              Computer             7.395160  ...                        23   \n",
       "3                Tablet            27.960389  ...                        30   \n",
       "4                    TV            20.083397  ...                        20   \n",
       "...                 ...                  ...  ...                       ...   \n",
       "243782         Computer            13.502729  ...                        47   \n",
       "243783               TV            24.963291  ...                        35   \n",
       "243784               TV            10.628728  ...                        44   \n",
       "243785               TV            30.466782  ...                        36   \n",
       "243786               TV            24.972537  ...                        11   \n",
       "\n",
       "        GenrePreference UserRating  SupportTicketsPerMonth  Gender  \\\n",
       "0                Sci-Fi   2.176498                       4    Male   \n",
       "1                Action   3.478632                       8    Male   \n",
       "2               Fantasy   4.238824                       6    Male   \n",
       "3                 Drama   4.276013                       2    Male   \n",
       "4                Comedy   3.616170                       4  Female   \n",
       "...                 ...        ...                     ...     ...   \n",
       "243782           Sci-Fi   3.697451                       1    Male   \n",
       "243783           Comedy   1.449742                       4    Male   \n",
       "243784           Action   4.012217                       6    Male   \n",
       "243785          Fantasy   2.135789                       7  Female   \n",
       "243786           Action   1.428896                       3  Female   \n",
       "\n",
       "       WatchlistSize  ParentalControl SubtitlesEnabled  CustomerID Churn  \n",
       "0                  3               No               No  CB6SXPNVZA     0  \n",
       "1                 23               No              Yes  S7R2G87O09     0  \n",
       "2                  1              Yes              Yes  EASDC20BDT     0  \n",
       "3                 24              Yes              Yes  NPF69NT69N     0  \n",
       "4                  0               No               No  4LGYPK7VOL     0  \n",
       "...              ...              ...              ...         ...   ...  \n",
       "243782             8              Yes               No  FBZ38J108Z     0  \n",
       "243783            20               No               No  W4AO1Y6NAI     0  \n",
       "243784            13              Yes              Yes  0H3SWWI7IU     0  \n",
       "243785             5               No              Yes  63SJ44RT4A     0  \n",
       "243786             1              Yes               No  A6IN701VRY     0  \n",
       "\n",
       "[243787 rows x 21 columns]"
      ]
     },
     "execution_count": 6,
     "metadata": {},
     "output_type": "execute_result"
    }
   ],
   "source": [
    "df"
   ]
  },
  {
   "cell_type": "markdown",
   "id": "ab419a06",
   "metadata": {
    "papermill": {
     "duration": 0.008011,
     "end_time": "2023-10-26T19:25:53.795867",
     "exception": false,
     "start_time": "2023-10-26T19:25:53.787856",
     "status": "completed"
    },
    "tags": []
   },
   "source": [
    "# Preprocessing"
   ]
  },
  {
   "cell_type": "code",
   "execution_count": 7,
   "id": "53a6037d",
   "metadata": {
    "execution": {
     "iopub.execute_input": "2023-10-26T19:25:53.813016Z",
     "iopub.status.busy": "2023-10-26T19:25:53.812705Z",
     "iopub.status.idle": "2023-10-26T19:25:54.654140Z",
     "shell.execute_reply": "2023-10-26T19:25:54.653271Z"
    },
    "papermill": {
     "duration": 0.852683,
     "end_time": "2023-10-26T19:25:54.656482",
     "exception": false,
     "start_time": "2023-10-26T19:25:53.803799",
     "status": "completed"
    },
    "tags": []
   },
   "outputs": [],
   "source": [
    "binary_columns = ['PaperlessBilling', 'MultiDeviceAccess', 'ParentalControl', 'SubtitlesEnabled']\n",
    "df[binary_columns] = df[binary_columns].replace({'Yes': 1, 'No': 0})\n",
    "df['Gender'] = df['Gender'].replace({'Male': 1, 'Female': 0})"
   ]
  },
  {
   "cell_type": "code",
   "execution_count": 8,
   "id": "daa24db2",
   "metadata": {
    "execution": {
     "iopub.execute_input": "2023-10-26T19:25:54.675019Z",
     "iopub.status.busy": "2023-10-26T19:25:54.674715Z",
     "iopub.status.idle": "2023-10-26T19:25:54.688716Z",
     "shell.execute_reply": "2023-10-26T19:25:54.687983Z"
    },
    "papermill": {
     "duration": 0.025339,
     "end_time": "2023-10-26T19:25:54.690643",
     "exception": false,
     "start_time": "2023-10-26T19:25:54.665304",
     "status": "completed"
    },
    "tags": []
   },
   "outputs": [],
   "source": [
    "cat_columns = df[['PaymentMethod', 'SubscriptionType', 'ContentType', 'DeviceRegistered', 'GenrePreference']]"
   ]
  },
  {
   "cell_type": "code",
   "execution_count": 9,
   "id": "17fa8ed1",
   "metadata": {
    "execution": {
     "iopub.execute_input": "2023-10-26T19:25:54.707849Z",
     "iopub.status.busy": "2023-10-26T19:25:54.707593Z",
     "iopub.status.idle": "2023-10-26T19:25:54.871147Z",
     "shell.execute_reply": "2023-10-26T19:25:54.870015Z"
    },
    "papermill": {
     "duration": 0.174877,
     "end_time": "2023-10-26T19:25:54.873542",
     "exception": false,
     "start_time": "2023-10-26T19:25:54.698665",
     "status": "completed"
    },
    "tags": []
   },
   "outputs": [],
   "source": [
    "encoded_dfs = []\n",
    "for column in cat_columns:\n",
    "    encoded_df = pd.get_dummies(df[column], prefix=column, dtype=int)\n",
    "    encoded_dfs.append(encoded_df)\n",
    "\n",
    "df = pd.concat([df] + encoded_dfs, axis=1)"
   ]
  },
  {
   "cell_type": "code",
   "execution_count": 10,
   "id": "d15417a5",
   "metadata": {
    "execution": {
     "iopub.execute_input": "2023-10-26T19:25:54.891691Z",
     "iopub.status.busy": "2023-10-26T19:25:54.891368Z",
     "iopub.status.idle": "2023-10-26T19:25:54.941026Z",
     "shell.execute_reply": "2023-10-26T19:25:54.940146Z"
    },
    "papermill": {
     "duration": 0.061003,
     "end_time": "2023-10-26T19:25:54.943095",
     "exception": false,
     "start_time": "2023-10-26T19:25:54.882092",
     "status": "completed"
    },
    "tags": []
   },
   "outputs": [],
   "source": [
    "df = df.drop(cat_columns, axis=1)"
   ]
  },
  {
   "cell_type": "code",
   "execution_count": 11,
   "id": "d854174f",
   "metadata": {
    "execution": {
     "iopub.execute_input": "2023-10-26T19:25:54.960977Z",
     "iopub.status.busy": "2023-10-26T19:25:54.960569Z",
     "iopub.status.idle": "2023-10-26T19:25:54.969461Z",
     "shell.execute_reply": "2023-10-26T19:25:54.968526Z"
    },
    "papermill": {
     "duration": 0.019982,
     "end_time": "2023-10-26T19:25:54.971330",
     "exception": false,
     "start_time": "2023-10-26T19:25:54.951348",
     "status": "completed"
    },
    "tags": []
   },
   "outputs": [],
   "source": [
    "num_columns = df[['AccountAge', 'MonthlyCharges', 'TotalCharges', 'ViewingHoursPerWeek', 'AverageViewingDuration', 'ContentDownloadsPerMonth', 'UserRating', 'SupportTicketsPerMonth', 'WatchlistSize']]"
   ]
  },
  {
   "cell_type": "code",
   "execution_count": 12,
   "id": "5efb1435",
   "metadata": {
    "execution": {
     "iopub.execute_input": "2023-10-26T19:25:54.989035Z",
     "iopub.status.busy": "2023-10-26T19:25:54.988748Z",
     "iopub.status.idle": "2023-10-26T19:25:55.010444Z",
     "shell.execute_reply": "2023-10-26T19:25:55.009526Z"
    },
    "papermill": {
     "duration": 0.033222,
     "end_time": "2023-10-26T19:25:55.012683",
     "exception": false,
     "start_time": "2023-10-26T19:25:54.979461",
     "status": "completed"
    },
    "tags": []
   },
   "outputs": [],
   "source": [
    "X = df.drop(['Churn', 'CustomerID'], axis=1)\n",
    "y = df['Churn']"
   ]
  },
  {
   "cell_type": "code",
   "execution_count": 13,
   "id": "41949b1c",
   "metadata": {
    "execution": {
     "iopub.execute_input": "2023-10-26T19:25:55.031940Z",
     "iopub.status.busy": "2023-10-26T19:25:55.031614Z",
     "iopub.status.idle": "2023-10-26T19:25:55.136244Z",
     "shell.execute_reply": "2023-10-26T19:25:55.135404Z"
    },
    "papermill": {
     "duration": 0.117127,
     "end_time": "2023-10-26T19:25:55.138893",
     "exception": false,
     "start_time": "2023-10-26T19:25:55.021766",
     "status": "completed"
    },
    "tags": []
   },
   "outputs": [],
   "source": [
    "X_train, X_val, y_train, y_val = train_test_split(X, y, test_size=0.2, random_state=42)"
   ]
  },
  {
   "cell_type": "code",
   "execution_count": 14,
   "id": "747e54f1",
   "metadata": {
    "execution": {
     "iopub.execute_input": "2023-10-26T19:25:55.157495Z",
     "iopub.status.busy": "2023-10-26T19:25:55.157170Z",
     "iopub.status.idle": "2023-10-26T19:25:55.206725Z",
     "shell.execute_reply": "2023-10-26T19:25:55.205552Z"
    },
    "papermill": {
     "duration": 0.061745,
     "end_time": "2023-10-26T19:25:55.209445",
     "exception": false,
     "start_time": "2023-10-26T19:25:55.147700",
     "status": "completed"
    },
    "tags": []
   },
   "outputs": [],
   "source": [
    "scaler = StandardScaler()\n",
    "\n",
    "X_train[num_columns.columns] = scaler.fit_transform(X_train[num_columns.columns])\n",
    "\n",
    "X_val[num_columns.columns] = scaler.transform(X_val[num_columns.columns])"
   ]
  },
  {
   "cell_type": "markdown",
   "id": "bd5e1111",
   "metadata": {
    "papermill": {
     "duration": 0.009382,
     "end_time": "2023-10-26T19:25:55.228454",
     "exception": false,
     "start_time": "2023-10-26T19:25:55.219072",
     "status": "completed"
    },
    "tags": []
   },
   "source": [
    "# Random Forest"
   ]
  },
  {
   "cell_type": "code",
   "execution_count": 15,
   "id": "12800d7d",
   "metadata": {
    "execution": {
     "iopub.execute_input": "2023-10-26T19:25:55.248315Z",
     "iopub.status.busy": "2023-10-26T19:25:55.247950Z",
     "iopub.status.idle": "2023-10-26T19:25:55.253724Z",
     "shell.execute_reply": "2023-10-26T19:25:55.252698Z"
    },
    "papermill": {
     "duration": 0.018221,
     "end_time": "2023-10-26T19:25:55.255881",
     "exception": false,
     "start_time": "2023-10-26T19:25:55.237660",
     "status": "completed"
    },
    "tags": []
   },
   "outputs": [],
   "source": [
    "min_samples_split_list = [2,10, 30, 50, 100, 200, 300, 700]  ## If the number is an integer, then it is the actual quantity of samples,\n",
    "                                             ## If it is a float, then it is the percentage of the dataset\n",
    "max_depth_list = [2, 4, 8, 16, 32, 64, None]\n",
    "n_estimators_list = [10,50,100,500]"
   ]
  },
  {
   "cell_type": "code",
   "execution_count": 16,
   "id": "3510d74a",
   "metadata": {
    "execution": {
     "iopub.execute_input": "2023-10-26T19:25:55.275808Z",
     "iopub.status.busy": "2023-10-26T19:25:55.275470Z",
     "iopub.status.idle": "2023-10-26T19:31:53.583950Z",
     "shell.execute_reply": "2023-10-26T19:31:53.582938Z"
    },
    "papermill": {
     "duration": 358.320947,
     "end_time": "2023-10-26T19:31:53.586084",
     "exception": false,
     "start_time": "2023-10-26T19:25:55.265137",
     "status": "completed"
    },
    "tags": []
   },
   "outputs": [
    {
     "data": {
      "text/plain": [
       "<matplotlib.legend.Legend at 0x7d893cb1add0>"
      ]
     },
     "execution_count": 16,
     "metadata": {},
     "output_type": "execute_result"
    },
    {
     "data": {
      "image/png": "[encoded data removed]",
      "text/plain": [
       "<Figure size 640x480 with 1 Axes>"
      ]
     },
     "metadata": {},
     "output_type": "display_data"
    }
   ],
   "source": [
    "accuracy_list_train = []\n",
    "accuracy_list_val = []\n",
    "for min_samples_split in min_samples_split_list:\n",
    "    # You can fit the model at the same time you define it, because the fit function returns the fitted estimator.\n",
    "    model = RandomForestClassifier(min_samples_split = min_samples_split,\n",
    "                                   random_state = 32).fit(X_train,y_train) \n",
    "    predictions_train = model.predict(X_train) ## The predicted values for the train dataset\n",
    "    predictions_val = model.predict(X_val) ## The predicted values for the test dataset\n",
    "    accuracy_train = accuracy_score(predictions_train,y_train)\n",
    "    accuracy_val = accuracy_score(predictions_val,y_val)\n",
    "    accuracy_list_train.append(accuracy_train)\n",
    "    accuracy_list_val.append(accuracy_val)\n",
    "\n",
    "plt.title('Train x Validation metrics')\n",
    "plt.xlabel('min_samples_split')\n",
    "plt.ylabel('accuracy')\n",
    "plt.xticks(ticks = range(len(min_samples_split_list )),labels=min_samples_split_list) \n",
    "plt.plot(accuracy_list_train)\n",
    "plt.plot(accuracy_list_val)\n",
    "plt.legend(['Train','Validation'])"
   ]
  },
  {
   "cell_type": "code",
   "execution_count": 17,
   "id": "f41b25f0",
   "metadata": {
    "execution": {
     "iopub.execute_input": "2023-10-26T19:31:53.605843Z",
     "iopub.status.busy": "2023-10-26T19:31:53.605294Z",
     "iopub.status.idle": "2023-10-26T19:36:33.942075Z",
     "shell.execute_reply": "2023-10-26T19:36:33.941065Z"
    },
    "papermill": {
     "duration": 280.349252,
     "end_time": "2023-10-26T19:36:33.944407",
     "exception": false,
     "start_time": "2023-10-26T19:31:53.595155",
     "status": "completed"
    },
    "tags": []
   },
   "outputs": [
    {
     "data": {
      "text/plain": [
       "<matplotlib.legend.Legend at 0x7d89f4dfd870>"
      ]
     },
     "execution_count": 17,
     "metadata": {},
     "output_type": "execute_result"
    },
    {
     "data": {
      "image/png": "[encoded data removed]",
      "text/plain": [
       "<Figure size 640x480 with 1 Axes>"
      ]
     },
     "metadata": {},
     "output_type": "display_data"
    }
   ],
   "source": [
    "accuracy_list_train = []\n",
    "accuracy_list_val = []\n",
    "for max_depth in max_depth_list:\n",
    "    # You can fit the model at the same time you define it, because the fit function returns the fitted estimator.\n",
    "    model = RandomForestClassifier(max_depth = max_depth,\n",
    "                                   random_state = 32).fit(X_train,y_train) \n",
    "    predictions_train = model.predict(X_train) ## The predicted values for the train dataset\n",
    "    predictions_val = model.predict(X_val) ## The predicted values for the test dataset\n",
    "    accuracy_train = accuracy_score(predictions_train,y_train)\n",
    "    accuracy_val = accuracy_score(predictions_val,y_val)\n",
    "    accuracy_list_train.append(accuracy_train)\n",
    "    accuracy_list_val.append(accuracy_val)\n",
    "\n",
    "plt.title('Train x Validation metrics')\n",
    "plt.xlabel('max_depth')\n",
    "plt.ylabel('accuracy')\n",
    "plt.xticks(ticks = range(len(max_depth_list )),labels=max_depth_list)\n",
    "plt.plot(accuracy_list_train)\n",
    "plt.plot(accuracy_list_val)\n",
    "plt.legend(['Train','Validation'])"
   ]
  },
  {
   "cell_type": "code",
   "execution_count": 18,
   "id": "f9a91e9c",
   "metadata": {
    "execution": {
     "iopub.execute_input": "2023-10-26T19:36:33.965020Z",
     "iopub.status.busy": "2023-10-26T19:36:33.964378Z",
     "iopub.status.idle": "2023-10-26T19:42:43.415149Z",
     "shell.execute_reply": "2023-10-26T19:42:43.414189Z"
    },
    "papermill": {
     "duration": 369.463454,
     "end_time": "2023-10-26T19:42:43.417291",
     "exception": false,
     "start_time": "2023-10-26T19:36:33.953837",
     "status": "completed"
    },
    "tags": []
   },
   "outputs": [
    {
     "data": {
      "text/plain": [
       "<matplotlib.legend.Legend at 0x7d893c133e50>"
      ]
     },
     "execution_count": 18,
     "metadata": {},
     "output_type": "execute_result"
    },
    {
     "data": {
      "image/png": "[encoded data removed]",
      "text/plain": [
       "<Figure size 640x480 with 1 Axes>"
      ]
     },
     "metadata": {},
     "output_type": "display_data"
    }
   ],
   "source": [
    "accuracy_list_train = []\n",
    "accuracy_list_val = []\n",
    "for n_estimators in n_estimators_list:\n",
    "    # You can fit the model at the same time you define it, because the fit function returns the fitted estimator.\n",
    "    model = RandomForestClassifier(n_estimators = n_estimators,\n",
    "                                   random_state = 32).fit(X_train,y_train) \n",
    "    predictions_train = model.predict(X_train) ## The predicted values for the train dataset\n",
    "    predictions_val = model.predict(X_val) ## The predicted values for the test dataset\n",
    "    accuracy_train = accuracy_score(predictions_train,y_train)\n",
    "    accuracy_val = accuracy_score(predictions_val,y_val)\n",
    "    accuracy_list_train.append(accuracy_train)\n",
    "    accuracy_list_val.append(accuracy_val)\n",
    "\n",
    "plt.title('Train x Validation metrics')\n",
    "plt.xlabel('n_estimators')\n",
    "plt.ylabel('accuracy')\n",
    "plt.xticks(ticks = range(len(n_estimators_list )),labels=n_estimators_list)\n",
    "plt.plot(accuracy_list_train)\n",
    "plt.plot(accuracy_list_val)\n",
    "plt.legend(['Train','Validation'])"
   ]
  },
  {
   "cell_type": "code",
   "execution_count": 19,
   "id": "c250e5a8",
   "metadata": {
    "execution": {
     "iopub.execute_input": "2023-10-26T19:42:43.484972Z",
     "iopub.status.busy": "2023-10-26T19:42:43.484624Z",
     "iopub.status.idle": "2023-10-26T19:43:04.747446Z",
     "shell.execute_reply": "2023-10-26T19:43:04.746539Z"
    },
    "papermill": {
     "duration": 21.276952,
     "end_time": "2023-10-26T19:43:04.750006",
     "exception": false,
     "start_time": "2023-10-26T19:42:43.473054",
     "status": "completed"
    },
    "tags": []
   },
   "outputs": [],
   "source": [
    "random_forest_model = RandomForestClassifier(n_estimators = 50,\n",
    "                                             max_depth = 16, \n",
    "                                             min_samples_split = 10).fit(X_train,y_train)"
   ]
  },
  {
   "cell_type": "code",
   "execution_count": 20,
   "id": "d4e957c5",
   "metadata": {
    "execution": {
     "iopub.execute_input": "2023-10-26T19:43:04.773341Z",
     "iopub.status.busy": "2023-10-26T19:43:04.773031Z",
     "iopub.status.idle": "2023-10-26T19:43:07.635072Z",
     "shell.execute_reply": "2023-10-26T19:43:07.634037Z"
    },
    "papermill": {
     "duration": 2.876179,
     "end_time": "2023-10-26T19:43:07.637236",
     "exception": false,
     "start_time": "2023-10-26T19:43:04.761057",
     "status": "completed"
    },
    "tags": []
   },
   "outputs": [
    {
     "name": "stdout",
     "output_type": "stream",
     "text": [
      "Metrics train:\n",
      "\tAccuracy score: 0.8658\n",
      "Metrics test:\n",
      "\tAccuracy score: 0.8224\n"
     ]
    }
   ],
   "source": [
    "print(f\"Metrics train:\\n\\tAccuracy score: {accuracy_score(random_forest_model.predict(X_train),y_train):.4f}\\nMetrics test:\\n\\tAccuracy score: {accuracy_score(random_forest_model.predict(X_val),y_val):.4f}\")"
   ]
  },
  {
   "cell_type": "markdown",
   "id": "4a8d6245",
   "metadata": {
    "papermill": {
     "duration": 0.009591,
     "end_time": "2023-10-26T19:43:07.657053",
     "exception": false,
     "start_time": "2023-10-26T19:43:07.647462",
     "status": "completed"
    },
    "tags": []
   },
   "source": [
    "# XGBoost"
   ]
  },
  {
   "cell_type": "code",
   "execution_count": 21,
   "id": "c3983117",
   "metadata": {
    "execution": {
     "iopub.execute_input": "2023-10-26T19:43:07.677928Z",
     "iopub.status.busy": "2023-10-26T19:43:07.677648Z",
     "iopub.status.idle": "2023-10-26T19:43:07.683380Z",
     "shell.execute_reply": "2023-10-26T19:43:07.682533Z"
    },
    "papermill": {
     "duration": 0.018598,
     "end_time": "2023-10-26T19:43:07.685381",
     "exception": false,
     "start_time": "2023-10-26T19:43:07.666783",
     "status": "completed"
    },
    "tags": []
   },
   "outputs": [],
   "source": [
    "n = int(len(X_train)*0.8) ## Let's use 80% to train and 20% to eval\n",
    "X_train_fit, X_train_eval, y_train_fit, y_train_eval = X_train[:n], X_train[n:], y_train[:n], y_train[n:]"
   ]
  },
  {
   "cell_type": "code",
   "execution_count": 22,
   "id": "466ca145",
   "metadata": {
    "execution": {
     "iopub.execute_input": "2023-10-26T19:43:07.706010Z",
     "iopub.status.busy": "2023-10-26T19:43:07.705753Z",
     "iopub.status.idle": "2023-10-26T19:43:23.132910Z",
     "shell.execute_reply": "2023-10-26T19:43:23.131900Z"
    },
    "papermill": {
     "duration": 15.439861,
     "end_time": "2023-10-26T19:43:23.135074",
     "exception": false,
     "start_time": "2023-10-26T19:43:07.695213",
     "status": "completed"
    },
    "tags": []
   },
   "outputs": [
    {
     "name": "stderr",
     "output_type": "stream",
     "text": [
      "/opt/conda/lib/python3.10/site-packages/xgboost/sklearn.py:835: UserWarning: `early_stopping_rounds` in `fit` method is deprecated for better compatibility with scikit-learn, use `early_stopping_rounds` in constructor or`set_params` instead.\n",
      "  warnings.warn(\n"
     ]
    },
    {
     "name": "stdout",
     "output_type": "stream",
     "text": [
      "[0]\tvalidation_0-logloss:0.64972\n",
      "[1]\tvalidation_0-logloss:0.61420\n",
      "[2]\tvalidation_0-logloss:0.58478\n",
      "[3]\tvalidation_0-logloss:0.56040\n",
      "[4]\tvalidation_0-logloss:0.53992\n",
      "[5]\tvalidation_0-logloss:0.52261\n",
      "[6]\tvalidation_0-logloss:0.50801\n",
      "[7]\tvalidation_0-logloss:0.49557\n",
      "[8]\tvalidation_0-logloss:0.48501\n",
      "[9]\tvalidation_0-logloss:0.47604\n",
      "[10]\tvalidation_0-logloss:0.46838\n",
      "[11]\tvalidation_0-logloss:0.46178\n",
      "[12]\tvalidation_0-logloss:0.45613\n",
      "[13]\tvalidation_0-logloss:0.45122\n",
      "[14]\tvalidation_0-logloss:0.44705\n",
      "[15]\tvalidation_0-logloss:0.44348\n",
      "[16]\tvalidation_0-logloss:0.44043\n",
      "[17]\tvalidation_0-logloss:0.43782\n",
      "[18]\tvalidation_0-logloss:0.43548\n",
      "[19]\tvalidation_0-logloss:0.43350\n",
      "[20]\tvalidation_0-logloss:0.43177\n",
      "[21]\tvalidation_0-logloss:0.43026\n",
      "[22]\tvalidation_0-logloss:0.42898\n",
      "[23]\tvalidation_0-logloss:0.42781\n",
      "[24]\tvalidation_0-logloss:0.42686\n",
      "[25]\tvalidation_0-logloss:0.42603\n",
      "[26]\tvalidation_0-logloss:0.42527\n",
      "[27]\tvalidation_0-logloss:0.42453\n",
      "[28]\tvalidation_0-logloss:0.42389\n",
      "[29]\tvalidation_0-logloss:0.42341\n",
      "[30]\tvalidation_0-logloss:0.42293\n",
      "[31]\tvalidation_0-logloss:0.42249\n",
      "[32]\tvalidation_0-logloss:0.42215\n",
      "[33]\tvalidation_0-logloss:0.42182\n",
      "[34]\tvalidation_0-logloss:0.42153\n",
      "[35]\tvalidation_0-logloss:0.42125\n",
      "[36]\tvalidation_0-logloss:0.42098\n",
      "[37]\tvalidation_0-logloss:0.42070\n",
      "[38]\tvalidation_0-logloss:0.42050\n",
      "[39]\tvalidation_0-logloss:0.42030\n",
      "[40]\tvalidation_0-logloss:0.42011\n",
      "[41]\tvalidation_0-logloss:0.41999\n",
      "[42]\tvalidation_0-logloss:0.41981\n",
      "[43]\tvalidation_0-logloss:0.41966\n",
      "[44]\tvalidation_0-logloss:0.41962\n",
      "[45]\tvalidation_0-logloss:0.41953\n",
      "[46]\tvalidation_0-logloss:0.41939\n",
      "[47]\tvalidation_0-logloss:0.41932\n",
      "[48]\tvalidation_0-logloss:0.41926\n",
      "[49]\tvalidation_0-logloss:0.41919\n",
      "[50]\tvalidation_0-logloss:0.41911\n",
      "[51]\tvalidation_0-logloss:0.41906\n",
      "[52]\tvalidation_0-logloss:0.41899\n",
      "[53]\tvalidation_0-logloss:0.41894\n",
      "[54]\tvalidation_0-logloss:0.41891\n",
      "[55]\tvalidation_0-logloss:0.41885\n",
      "[56]\tvalidation_0-logloss:0.41883\n",
      "[57]\tvalidation_0-logloss:0.41883\n",
      "[58]\tvalidation_0-logloss:0.41883\n",
      "[59]\tvalidation_0-logloss:0.41881\n",
      "[60]\tvalidation_0-logloss:0.41880\n",
      "[61]\tvalidation_0-logloss:0.41882\n",
      "[62]\tvalidation_0-logloss:0.41881\n",
      "[63]\tvalidation_0-logloss:0.41880\n",
      "[64]\tvalidation_0-logloss:0.41881\n",
      "[65]\tvalidation_0-logloss:0.41881\n",
      "[66]\tvalidation_0-logloss:0.41882\n",
      "[67]\tvalidation_0-logloss:0.41881\n",
      "[68]\tvalidation_0-logloss:0.41879\n",
      "[69]\tvalidation_0-logloss:0.41877\n",
      "[70]\tvalidation_0-logloss:0.41877\n",
      "[71]\tvalidation_0-logloss:0.41879\n",
      "[72]\tvalidation_0-logloss:0.41876\n",
      "[73]\tvalidation_0-logloss:0.41874\n",
      "[74]\tvalidation_0-logloss:0.41876\n",
      "[75]\tvalidation_0-logloss:0.41875\n",
      "[76]\tvalidation_0-logloss:0.41875\n",
      "[77]\tvalidation_0-logloss:0.41876\n",
      "[78]\tvalidation_0-logloss:0.41876\n",
      "[79]\tvalidation_0-logloss:0.41878\n",
      "[80]\tvalidation_0-logloss:0.41878\n",
      "[81]\tvalidation_0-logloss:0.41879\n",
      "[82]\tvalidation_0-logloss:0.41882\n"
     ]
    },
    {
     "data": {
      "text/html": [
       "<style>#sk-container-id-1 {color: black;background-color: white;}#sk-container-id-1 pre{padding: 0;}#sk-container-id-1 div.sk-toggleable {background-color: white;}#sk-container-id-1 label.sk-toggleable__label {cursor: pointer;display: block;width: 100%;margin-bottom: 0;padding: 0.3em;box-sizing: border-box;text-align: center;}#sk-container-id-1 label.sk-toggleable__label-arrow:before {content: \"▸\";float: left;margin-right: 0.25em;color: #696969;}#sk-container-id-1 label.sk-toggleable__label-arrow:hover:before {color: black;}#sk-container-id-1 div.sk-estimator:hover label.sk-toggleable__label-arrow:before {color: black;}#sk-container-id-1 div.sk-toggleable__content {max-height: 0;max-width: 0;overflow: hidden;text-align: left;background-color: #f0f8ff;}#sk-container-id-1 div.sk-toggleable__content pre {margin: 0.2em;color: black;border-radius: 0.25em;background-color: #f0f8ff;}#sk-container-id-1 input.sk-toggleable__control:checked~div.sk-toggleable__content {max-height: 200px;max-width: 100%;overflow: auto;}#sk-container-id-1 input.sk-toggleable__control:checked~label.sk-toggleable__label-arrow:before {content: \"▾\";}#sk-container-id-1 div.sk-estimator input.sk-toggleable__control:checked~label.sk-toggleable__label {background-color: #d4ebff;}#sk-container-id-1 div.sk-label input.sk-toggleable__control:checked~label.sk-toggleable__label {background-color: #d4ebff;}#sk-container-id-1 input.sk-hidden--visually {border: 0;clip: rect(1px 1px 1px 1px);clip: rect(1px, 1px, 1px, 1px);height: 1px;margin: -1px;overflow: hidden;padding: 0;position: absolute;width: 1px;}#sk-container-id-1 div.sk-estimator {font-family: monospace;background-color: #f0f8ff;border: 1px dotted black;border-radius: 0.25em;box-sizing: border-box;margin-bottom: 0.5em;}#sk-container-id-1 div.sk-estimator:hover {background-color: #d4ebff;}#sk-container-id-1 div.sk-parallel-item::after {content: \"\";width: 100%;border-bottom: 1px solid gray;flex-grow: 1;}#sk-container-id-1 div.sk-label:hover label.sk-toggleable__label {background-color: #d4ebff;}#sk-container-id-1 div.sk-serial::before {content: \"\";position: absolute;border-left: 1px solid gray;box-sizing: border-box;top: 0;bottom: 0;left: 50%;z-index: 0;}#sk-container-id-1 div.sk-serial {display: flex;flex-direction: column;align-items: center;background-color: white;padding-right: 0.2em;padding-left: 0.2em;position: relative;}#sk-container-id-1 div.sk-item {position: relative;z-index: 1;}#sk-container-id-1 div.sk-parallel {display: flex;align-items: stretch;justify-content: center;background-color: white;position: relative;}#sk-container-id-1 div.sk-item::before, #sk-container-id-1 div.sk-parallel-item::before {content: \"\";position: absolute;border-left: 1px solid gray;box-sizing: border-box;top: 0;bottom: 0;left: 50%;z-index: -1;}#sk-container-id-1 div.sk-parallel-item {display: flex;flex-direction: column;z-index: 1;position: relative;background-color: white;}#sk-container-id-1 div.sk-parallel-item:first-child::after {align-self: flex-end;width: 50%;}#sk-container-id-1 div.sk-parallel-item:last-child::after {align-self: flex-start;width: 50%;}#sk-container-id-1 div.sk-parallel-item:only-child::after {width: 0;}#sk-container-id-1 div.sk-dashed-wrapped {border: 1px dashed gray;margin: 0 0.4em 0.5em 0.4em;box-sizing: border-box;padding-bottom: 0.4em;background-color: white;}#sk-container-id-1 div.sk-label label {font-family: monospace;font-weight: bold;display: inline-block;line-height: 1.2em;}#sk-container-id-1 div.sk-label-container {text-align: center;}#sk-container-id-1 div.sk-container {/* jupyter's `normalize.less` sets `[hidden] { display: none; }` but bootstrap.min.css set `[hidden] { display: none !important; }` so we also need the `!important` here to be able to override the default hidden behavior on the sphinx rendered scikit-learn.org. See: https://github.com/scikit-learn/scikit-learn/issues/21755 */display: inline-block !important;position: relative;}#sk-container-id-1 div.sk-text-repr-fallback {display: none;}</style><div id=\"sk-container-id-1\" class=\"sk-top-container\"><div class=\"sk-text-repr-fallback\"><pre>XGBClassifier(base_score=None, booster=None, callbacks=None,\n",
       "              colsample_bylevel=None, colsample_bynode=None,\n",
       "              colsample_bytree=None, early_stopping_rounds=None,\n",
       "              enable_categorical=False, eval_metric=None, feature_types=None,\n",
       "              gamma=None, gpu_id=None, grow_policy=None, importance_type=None,\n",
       "              interaction_constraints=None, learning_rate=0.1, max_bin=None,\n",
       "              max_cat_threshold=None, max_cat_to_onehot=None,\n",
       "              max_delta_step=None, max_depth=None, max_leaves=None,\n",
       "              min_child_weight=None, missing=nan, monotone_constraints=None,\n",
       "              n_estimators=500, n_jobs=None, num_parallel_tree=None,\n",
       "              predictor=None, random_state=32, ...)</pre><b>In a Jupyter environment, please rerun this cell to show the HTML representation or trust the notebook. <br />On GitHub, the HTML representation is unable to render, please try loading this page with nbviewer.org.</b></div><div class=\"sk-container\" hidden><div class=\"sk-item\"><div class=\"sk-estimator sk-toggleable\"><input class=\"sk-toggleable__control sk-hidden--visually\" id=\"sk-estimator-id-1\" type=\"checkbox\" checked><label for=\"sk-estimator-id-1\" class=\"sk-toggleable__label sk-toggleable__label-arrow\">XGBClassifier</label><div class=\"sk-toggleable__content\"><pre>XGBClassifier(base_score=None, booster=None, callbacks=None,\n",
       "              colsample_bylevel=None, colsample_bynode=None,\n",
       "              colsample_bytree=None, early_stopping_rounds=None,\n",
       "              enable_categorical=False, eval_metric=None, feature_types=None,\n",
       "              gamma=None, gpu_id=None, grow_policy=None, importance_type=None,\n",
       "              interaction_constraints=None, learning_rate=0.1, max_bin=None,\n",
       "              max_cat_threshold=None, max_cat_to_onehot=None,\n",
       "              max_delta_step=None, max_depth=None, max_leaves=None,\n",
       "              min_child_weight=None, missing=nan, monotone_constraints=None,\n",
       "              n_estimators=500, n_jobs=None, num_parallel_tree=None,\n",
       "              predictor=None, random_state=32, ...)</pre></div></div></div></div></div>"
      ],
      "text/plain": [
       "XGBClassifier(base_score=None, booster=None, callbacks=None,\n",
       "              colsample_bylevel=None, colsample_bynode=None,\n",
       "              colsample_bytree=None, early_stopping_rounds=None,\n",
       "              enable_categorical=False, eval_metric=None, feature_types=None,\n",
       "              gamma=None, gpu_id=None, grow_policy=None, importance_type=None,\n",
       "              interaction_constraints=None, learning_rate=0.1, max_bin=None,\n",
       "              max_cat_threshold=None, max_cat_to_onehot=None,\n",
       "              max_delta_step=None, max_depth=None, max_leaves=None,\n",
       "              min_child_weight=None, missing=nan, monotone_constraints=None,\n",
       "              n_estimators=500, n_jobs=None, num_parallel_tree=None,\n",
       "              predictor=None, random_state=32, ...)"
      ]
     },
     "execution_count": 22,
     "metadata": {},
     "output_type": "execute_result"
    }
   ],
   "source": [
    "xgb_model = XGBClassifier(n_estimators = 500, learning_rate = 0.1,verbosity = 1, random_state = 32)\n",
    "xgb_model.fit(X_train_fit,y_train_fit, eval_set = [(X_train_eval,y_train_eval)], early_stopping_rounds = 10)"
   ]
  },
  {
   "cell_type": "code",
   "execution_count": 23,
   "id": "dd0ffc71",
   "metadata": {
    "execution": {
     "iopub.execute_input": "2023-10-26T19:43:23.170455Z",
     "iopub.status.busy": "2023-10-26T19:43:23.170173Z",
     "iopub.status.idle": "2023-10-26T19:43:23.392521Z",
     "shell.execute_reply": "2023-10-26T19:43:23.391444Z"
    },
    "papermill": {
     "duration": 0.242289,
     "end_time": "2023-10-26T19:43:23.394614",
     "exception": false,
     "start_time": "2023-10-26T19:43:23.152325",
     "status": "completed"
    },
    "tags": []
   },
   "outputs": [
    {
     "name": "stdout",
     "output_type": "stream",
     "text": [
      "Metrics train:\n",
      "\tAccuracy score: 0.8272\n",
      "Metrics test:\n",
      "\tAccuracy score: 0.8242\n"
     ]
    }
   ],
   "source": [
    "print(f\"Metrics train:\\n\\tAccuracy score: {accuracy_score(xgb_model.predict(X_train),y_train):.4f}\\nMetrics test:\\n\\tAccuracy score: {accuracy_score(xgb_model.predict(X_val),y_val):.4f}\")"
   ]
  },
  {
   "cell_type": "code",
   "execution_count": null,
   "id": "76379145",
   "metadata": {
    "papermill": {
     "duration": 0.01649,
     "end_time": "2023-10-26T19:43:23.428911",
     "exception": false,
     "start_time": "2023-10-26T19:43:23.412421",
     "status": "completed"
    },
    "tags": []
   },
   "outputs": [],
   "source": []
  }
 ],
 "metadata": {
  "kernelspec": {
   "display_name": "Python 3",
   "language": "python",
   "name": "python3"
  },
  "language_info": {
   "codemirror_mode": {
    "name": "ipython",
    "version": 3
   },
   "file_extension": ".py",
   "mimetype": "text/x-python",
   "name": "python",
   "nbconvert_exporter": "python",
   "pygments_lexer": "ipython3",
   "version": "3.10.12"
  },
  "papermill": {
   "default_parameters": {},
   "duration": 1088.180842,
   "end_time": "2023-10-26T19:43:26.251841",
   "environment_variables": {},
   "exception": null,
   "input_path": "__notebook__.ipynb",
   "output_path": "__notebook__.ipynb",
   "parameters": {},
   "start_time": "2023-10-26T19:25:18.070999",
   "version": "2.4.0"
  }
 },
 "nbformat": 4,
 "nbformat_minor": 5
}
